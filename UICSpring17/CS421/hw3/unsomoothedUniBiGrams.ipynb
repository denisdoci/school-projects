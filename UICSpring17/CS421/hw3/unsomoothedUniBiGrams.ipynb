{
 "cells": [
  {
   "cell_type": "code",
   "execution_count": 106,
   "metadata": {
    "collapsed": false
   },
   "outputs": [],
   "source": [
    "from collections import defaultdict \n",
    "import itertools\n",
    "import math\n",
    "import random\n",
    "from __future__ import division"
   ]
  },
  {
   "cell_type": "code",
   "execution_count": 113,
   "metadata": {
    "collapsed": false
   },
   "outputs": [],
   "source": [
    "# i couldn't finish implementing this part of the homework fully\n",
    "# this is what i was trying to do but it wouldnt compile I'm not sure why\n",
    "# this is essentially my best guess of how one would do this \n",
    "\n",
    "\n",
    "#you would define a class that takes bigrams and unigrams\n",
    "\n",
    "#all of this is within one class\n",
    "\n",
    "\n",
    "# grams class:\n",
    "\n",
    "# def __init__(self, the maximum number of words, the actual words):\n",
    "#  self.(max words) = max words\n",
    "#  self.(some implement of range) = 1 to max number of words     \n",
    "#  self. count all the dictionary words = defaultdictionary(lambda: 0)\n",
    "#  function to add all words to the dictionary\n",
    "# def addWordsupdate(self, words):\n",
    "#       \n",
    "#        self.counts = get the length of words\n",
    "#        iterate through words \n",
    "#            iterate through the individual word\n",
    "#               count word and add if within \n",
    "#               range\n",
    "\n",
    "#def probability(wordsgiven):\n",
    "#        if len(wordsgiven) <= maximum words:\n",
    "#            return probabilityhelper(wordsgiven)\n",
    "#        else:\n",
    "#            prob = 1\n",
    "#            for i in xrange(length of words - the maximum):\n",
    "#                newwordsarray = words[i:i + maxwords]\n",
    "#                prob *= self.probabilityhelperFunction(ngramobject)\n",
    "#            return prob\n",
    "#def probabilityhelperFunction(self, ngramobject):\n",
    "#        getcountofngrams =   the counts of the n grams\n",
    "#        getcountofprefixes = count array [ngram[:-1]]\n",
    "#        if ngram_count and prefix_count:\n",
    "#            return ngram_count / prefix_count\n",
    "#        else:\n",
    "#            return 0"
   ]
  },
  {
   "cell_type": "code",
   "execution_count": 118,
   "metadata": {
    "collapsed": false
   },
   "outputs": [
    {
     "name": "stdout",
     "output_type": "stream",
     "text": [
      "in Update\n"
     ]
    },
    {
     "data": {
      "text/plain": [
       "0.0"
      ]
     },
     "execution_count": 118,
     "metadata": {},
     "output_type": "execute_result"
    }
   ],
   "source": [
    "coda1 = NGrams(1000, 'Pete Maravich was born to Helen Gravor Maravich (1925–1974) and Peter Press Maravich (1915–1987) in Aliquippa, a steel town in Beaver County in western Pennsylvania, near Pittsburgh. Maravich amazed his family and friends with his basketball abilities from an early age. He enjoyed a close but demanding father–son relationship that motivated him toward achievement and fame in the sport. Maravichs father, Petar \"Press\" Maravich, the son of Serbian immigrants[5][6][7][8][9] and a former professional player-turned-coach, showed him the fundamentals starting when he was seven years old. Obsessively, Maravich spent hours practicing ball control tricks, passes, head fakes, and long-range shots.')\n",
    "coda1._probability('the')"
   ]
  },
  {
   "cell_type": "code",
   "execution_count": 117,
   "metadata": {
    "collapsed": true
   },
   "outputs": [],
   "source": [
    "# that was my testing of my previous code\n",
    "# but it doesnt work\n",
    "# so this is my best guess\n",
    "# of how it should look if it did work\n",
    "# the version i had would always return\n",
    "# 0 for probablity so i decided not to hand that in\n",
    "# and turn in an algorithim description of how it would look\n",
    "# if my code actually worked. I understand if this is \n",
    "# not acceptable.\n",
    "\n"
   ]
  },
  {
   "cell_type": "code",
   "execution_count": null,
   "metadata": {
    "collapsed": true
   },
   "outputs": [],
   "source": []
  }
 ],
 "metadata": {
  "anaconda-cloud": {},
  "kernelspec": {
   "display_name": "Python [conda env:py3env1]",
   "language": "python",
   "name": "conda-env-py3env1-py"
  },
  "language_info": {
   "codemirror_mode": {
    "name": "ipython",
    "version": 3
   },
   "file_extension": ".py",
   "mimetype": "text/x-python",
   "name": "python",
   "nbconvert_exporter": "python",
   "pygments_lexer": "ipython3",
   "version": "3.5.2"
  }
 },
 "nbformat": 4,
 "nbformat_minor": 1
}

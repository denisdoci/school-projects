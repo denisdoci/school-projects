{
 "cells": [
  {
   "cell_type": "code",
   "execution_count": 12,
   "metadata": {
    "collapsed": true
   },
   "outputs": [],
   "source": [
    "#using min distance algorithm \n",
    "#on chapter 3 page 76 of the book\n",
    "import sys \n",
    "import nltk"
   ]
  },
  {
   "cell_type": "code",
   "execution_count": 88,
   "metadata": {
    "collapsed": false
   },
   "outputs": [],
   "source": [
    "#I'm not sure if you want us to comment out this portion \n",
    "#it is the same algorithm as the book\n",
    "#i just added the necassary descriptions\n",
    "#source: book, nlp section of stack overflow for the definitions\n",
    "\n",
    "def min_edit_distance(target, source):\n",
    "    \n",
    "    #helper function in algorithm\n",
    "    def get_dist(row, column, func, t_char, s_char):\n",
    "        chars = t_char, s_char\n",
    "        arguements = [char for char in chars if char != '*']\n",
    "        retval = distance[row, column] + func(*arguements)\n",
    "        return retval\n",
    "\n",
    "    ins_cost=lambda targ: 1\n",
    "    del_cost=lambda targ: 1\n",
    "    sub_cost=lambda targ,sour : 0 if targ == sour else 2\n",
    "        \n",
    "\n",
    "    columns = range(1, len(target) + 1)\n",
    "    rows = range(1, len(source) + 1)\n",
    "    \n",
    "    distance = {(0, 0): 0}\n",
    "    \n",
    "    for i in columns:\n",
    "        mod = ins_cost(target[i - 1])\n",
    "        distance[i, 0] = distance[i - 1, 0] + mod \n",
    "    for j in rows:\n",
    "        mod = del_cost(source[j - 1])\n",
    "        distance[0, j] = distance[0, j - 1] + mod\n",
    "        \n",
    "    indices = [(i, j) for i in columns for j in rows] \n",
    "    indices.sort(key=sum)\n",
    "    \n",
    "    for i,j in indices:\n",
    "        t_char = target[i - 1]\n",
    "        s_char = source[j - 1]\n",
    "        distance[i, j] = min(\n",
    "        get_dist(i -1, j,  ins_cost, t_char, '*'),\n",
    "        get_dist(i - 1, j - 1,  sub_cost, t_char, s_char),\n",
    "        get_dist(i, j - 1, del_cost, '*', s_char))\n",
    "        \n",
    "    return distance[len(target), len(source)]\n"
   ]
  },
  {
   "cell_type": "code",
   "execution_count": 89,
   "metadata": {
    "collapsed": false
   },
   "outputs": [
    {
     "data": {
      "text/plain": [
       "4"
      ]
     },
     "execution_count": 89,
     "metadata": {},
     "output_type": "execute_result"
    }
   ],
   "source": [
    "min_edit_distance('brief', 'drive')\n",
    "#this was computed as 4 in our had "
   ]
  },
  {
   "cell_type": "code",
   "execution_count": 90,
   "metadata": {
    "collapsed": false
   },
   "outputs": [
    {
     "data": {
      "text/plain": [
       "3"
      ]
     },
     "execution_count": 90,
     "metadata": {},
     "output_type": "execute_result"
    }
   ],
   "source": [
    "min_edit_distance('drive', 'divers')\n",
    "#this was computed as 3 in our hand computed"
   ]
  },
  {
   "cell_type": "code",
   "execution_count": 84,
   "metadata": {
    "collapsed": true
   },
   "outputs": [],
   "source": [
    "#as you can see the guess lines up with with the program "
   ]
  },
  {
   "cell_type": "code",
   "execution_count": null,
   "metadata": {
    "collapsed": true
   },
   "outputs": [],
   "source": []
  }
 ],
 "metadata": {
  "kernelspec": {
   "display_name": "Python [conda env:py3env1]",
   "language": "python",
   "name": "conda-env-py3env1-py"
  },
  "language_info": {
   "codemirror_mode": {
    "name": "ipython",
    "version": 3
   },
   "file_extension": ".py",
   "mimetype": "text/x-python",
   "name": "python",
   "nbconvert_exporter": "python",
   "pygments_lexer": "ipython3",
   "version": "3.5.2"
  }
 },
 "nbformat": 4,
 "nbformat_minor": 1
}

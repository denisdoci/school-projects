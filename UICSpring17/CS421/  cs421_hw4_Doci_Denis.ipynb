{
 "cells": [
  {
   "cell_type": "code",
   "execution_count": 3,
   "metadata": {
    "collapsed": true
   },
   "outputs": [],
   "source": [
    "import sys\n",
    "import string\n"
   ]
  },
  {
   "cell_type": "code",
   "execution_count": 4,
   "metadata": {
    "collapsed": false
   },
   "outputs": [],
   "source": [
    "def gold_standard():\n",
    "    \"\"\"\n",
    "    :return: A list of the gold standard named entity status of \n",
    "    all dataset tokens [True, False, False,...]\n",
    "    \"\"\"\n",
    "    result=[]\n",
    "    for line in open('ner_dataset.txt').readlines():\n",
    "            if line.strip():\n",
    "                token, part_of_speech, chunk, ne_category=line.split()\n",
    "                result.append(ne_category!='O')\n",
    "    return result\n"
   ]
  },
  {
   "cell_type": "code",
   "execution_count": 5,
   "metadata": {
    "collapsed": false
   },
   "outputs": [],
   "source": [
    "def ner():\n",
    "    \"\"\"\n",
    "    :return: A list of the predicted named entity status \n",
    "    of all dataset tokens [True, False, False,...]\n",
    "    \"\"\"\n",
    "    result=[]\n",
    "    sentence_start=True\n",
    "    for line in open('ner_dataset.txt').readlines():\n",
    "        if line.strip():\n",
    "            token, part_of_speech, chunk, ne_category=line.split()\n",
    "            #apply rules\n",
    "            if(token[0].isupper() and sentence_start == False):\n",
    "                result.append(True)\n",
    "            else:\n",
    "                result.append(False)\n",
    "            sentence_start=False\n",
    "        else:\n",
    "            sentence_start=True\n",
    "    return result"
   ]
  },
  {
   "cell_type": "code",
   "execution_count": 8,
   "metadata": {
    "collapsed": true
   },
   "outputs": [],
   "source": [
    "def evaluate(gold_standard_result, prediction_result):\n",
    "    \"\"\"\n",
    "    Compute Performance Metrics\n",
    "    :param gold_standard_result:\n",
    "    :param prediction_result:\n",
    "    :return: precision, recall, f1-score\n",
    "    \"\"\"\n",
    "    \n",
    "    tp = 0\n",
    "    tn = 0\n",
    "    fp = 0\n",
    "    fn = 0\n",
    "    \n",
    "    for i in range(0 , len(gold_standard_result)):\n",
    "        if gold_standard_result[i] == True and prediction_result[i] == True:\n",
    "            tp = tp + 1\n",
    "        elif gold_standard_result[i] == True and prediction_result[i] == False:\n",
    "            fn = fn + 1\n",
    "        elif gold_standard_result[i] == False and prediction_result[i] == True:\n",
    "            fp = fp + 1\n",
    "        else:\n",
    "            tn = tn + 1\n",
    "            \n",
    "    precision = tp / (tp + fp)\n",
    "    recall = tp / (tp + fn)\n",
    "    f1 = (2 * precision*recall) / (precision + recall)\n",
    "    print(\"precision: \", end='')\n",
    "    print(precision)\n",
    "    print(\"recall: \", end='')\n",
    "    print(recall)\n",
    "    print(\"f1 score: \", end='')\n",
    "    print(f1)\n",
    "    assert len(gold_standard_result)==len(prediction_result)\n",
    "    return precision, recall, f1\n",
    " # add up true positives, false positives, false negatives"
   ]
  },
  {
   "cell_type": "code",
   "execution_count": 9,
   "metadata": {
    "collapsed": false
   },
   "outputs": [
    {
     "name": "stdout",
     "output_type": "stream",
     "text": [
      "46666\n",
      "46666\n",
      "precision: 0.7890855457227138\n",
      "recall: 0.7914201183431953\n",
      "f1 score: 0.7902511078286558\n"
     ]
    },
    {
     "data": {
      "text/plain": [
       "(0.7890855457227138, 0.7914201183431953, 0.7902511078286558)"
      ]
     },
     "execution_count": 9,
     "metadata": {},
     "output_type": "execute_result"
    }
   ],
   "source": [
    "gold_standard_result=gold_standard()\n",
    "prediction_result=ner()\n",
    "print(len(prediction_result))\n",
    "print(len(gold_standard_result))\n",
    "evaluate(gold_standard_result, prediction_result)"
   ]
  }
 ],
 "metadata": {
  "anaconda-cloud": {},
  "kernelspec": {
   "display_name": "Python [conda env:py3env1]",
   "language": "python",
   "name": "conda-env-py3env1-py"
  },
  "language_info": {
   "codemirror_mode": {
    "name": "ipython",
    "version": 3
   },
   "file_extension": ".py",
   "mimetype": "text/x-python",
   "name": "python",
   "nbconvert_exporter": "python",
   "pygments_lexer": "ipython3",
   "version": "3.5.2"
  }
 },
 "nbformat": 4,
 "nbformat_minor": 1
}
